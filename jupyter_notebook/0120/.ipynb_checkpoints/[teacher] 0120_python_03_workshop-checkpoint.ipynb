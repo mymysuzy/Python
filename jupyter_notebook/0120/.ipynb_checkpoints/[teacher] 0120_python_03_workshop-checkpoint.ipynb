{
 "cells": [
  {
   "cell_type": "markdown",
   "metadata": {},
   "source": [
    "# Workshop\n"
   ]
  },
  {
   "cell_type": "markdown",
   "metadata": {},
   "source": [
    "## 1. List의 합 구하기\n",
    "\n",
    "> 정수로만 이루어진 list를 전달 받아 해당 list의 모든 요소들의 합을 반환하는 list_sum\n",
    "함수를 built-in 함수인 sum() 함수를 사용하지 않고 작성하시오\n",
    "\n",
    "---\n",
    "\n",
    "```\n",
    "list_sum([1, 2, 3, 4, 5]) #=> 15\n",
    "```"
   ]
  },
  {
   "cell_type": "code",
   "execution_count": 5,
   "metadata": {},
   "outputs": [
    {
     "name": "stdout",
     "output_type": "stream",
     "text": [
      "15\n"
     ]
    }
   ],
   "source": [
    "\n",
    "\n",
    "def list_sum(numbers):\n",
    "    sum=0\n",
    "    for number in numbers:\n",
    "        sum+=number\n",
    "    return sum\n",
    "    \n",
    "my_total = list_sum([1, 2, 3, 4, 5])  #=> 15\n",
    "print(my_total)"
   ]
  },
  {
   "cell_type": "markdown",
   "metadata": {},
   "source": [
    "## 2. Dictionary로 이루어진 List의 합 구하기\n",
    "\n",
    "> Dictionary로 이루어진 list를 전달 받아 모든 dictionary의 'age' key에 해당하는 value\n",
    "들의 합을 반환하는 dict_list_sum 함수를 built-in 함수인 sum() 함수를 사용하지 않고\n",
    "작성하시오\n",
    "\n",
    "---\n",
    "```python\n",
    "dict_list_sum([{'name':'kim','age': 12},\n",
    "               {'name':'lee','age':4}]) #=> 16\n",
    "               \n",
    "```\n"
   ]
  },
  {
   "cell_type": "code",
   "execution_count": 7,
   "metadata": {},
   "outputs": [
    {
     "data": {
      "text/plain": [
       "117"
      ]
     },
     "execution_count": 7,
     "metadata": {},
     "output_type": "execute_result"
    }
   ],
   "source": [
    "\n",
    "\n",
    "def dict_list_sum(students):\n",
    "    total=0\n",
    "    for student in students:\n",
    "        total+=student['age']\n",
    "    return total\n",
    "\n",
    "\n",
    "dict_list_sum([\n",
    "    { 'name': '지용', 'age': 80 },\n",
    "    { 'name': '원상', 'age': 37 },\n",
    "])"
   ]
  },
  {
   "cell_type": "code",
   "execution_count": 9,
   "metadata": {},
   "outputs": [
    {
     "data": {
      "text/plain": [
       "55"
      ]
     },
     "execution_count": 9,
     "metadata": {},
     "output_type": "execute_result"
    }
   ],
   "source": [
    " # 2. \n",
    "    \n",
    "def all_list_sum(number_lists):\n",
    "    total = 0\n",
    "    # 리스트 안의 리스트 순회 (-> [7, 8, 9, 10])\n",
    "    for number_list in number_lists:  \n",
    "        # 리스트 안의 리스트 안에 있는 숫자 순회 (-> 7, ..., 10)\n",
    "        for number in number_list:   \n",
    "            total += number\n",
    "    return total\n",
    "\n",
    "all_list_sum([[1], [2, 3], [4, 5, 6], [7, 8, 9, 10]])  #=> 55"
   ]
  },
  {
   "cell_type": "code",
   "execution_count": null,
   "metadata": {},
   "outputs": [],
   "source": []
  },
  {
   "cell_type": "markdown",
   "metadata": {},
   "source": [
    "## 3. 2차원 List의 전체 합 구하기\n",
    "\n",
    "> 정수로만 이루어진 2차원 list를 전달 받아 해당 list의 모든 요소들의 합을 반환하는\n",
    "all_list_sum 함수를 built-in 함수인 sum() 함수를 사용하지 않고 작성하시오.\n",
    "\n",
    "---\n",
    "```\n",
    "all_list_sum([[1], [2, 3], [4, 5, 6], [7, 8, 9, 10]]) #=> 55\n",
    "```"
   ]
  },
  {
   "cell_type": "code",
   "execution_count": 4,
   "metadata": {},
   "outputs": [
    {
     "ename": "NameError",
     "evalue": "name 'total' is not defined",
     "output_type": "error",
     "traceback": [
      "\u001b[1;31m---------------------------------------------------------------------------\u001b[0m",
      "\u001b[1;31mNameError\u001b[0m                                 Traceback (most recent call last)",
      "\u001b[1;32m<ipython-input-4-023f8b082acf>\u001b[0m in \u001b[0;36m<module>\u001b[1;34m\u001b[0m\n\u001b[0;32m      8\u001b[0m         \u001b[1;32mreturn\u001b[0m \u001b[0mtotal\u001b[0m\u001b[1;33m\u001b[0m\u001b[1;33m\u001b[0m\u001b[0m\n\u001b[0;32m      9\u001b[0m \u001b[1;33m\u001b[0m\u001b[0m\n\u001b[1;32m---> 10\u001b[1;33m \u001b[0mprint\u001b[0m\u001b[1;33m(\u001b[0m\u001b[0mall_list_sum\u001b[0m\u001b[1;33m(\u001b[0m\u001b[0mtotal\u001b[0m\u001b[1;33m)\u001b[0m\u001b[1;33m)\u001b[0m\u001b[1;33m\u001b[0m\u001b[1;33m\u001b[0m\u001b[0m\n\u001b[0m",
      "\u001b[1;31mNameError\u001b[0m: name 'total' is not defined"
     ]
    }
   ],
   "source": [
    "number_lists = [[1], [2, 3], [4, 5, 6], [7, 8, 9, 10]]\n",
    "\n",
    "def all_list_sum(number_lists):\n",
    "    total = 0\n",
    "    for number_list in number_lists:\n",
    "        for number in number_list:\n",
    "            total+=number\n",
    "        return total\n",
    "    \n",
    "print(all_list_sum(total))"
   ]
  },
  {
   "cell_type": "code",
   "execution_count": null,
   "metadata": {},
   "outputs": [],
   "source": []
  },
  {
   "cell_type": "code",
   "execution_count": null,
   "metadata": {},
   "outputs": [],
   "source": []
  },
  {
   "cell_type": "code",
   "execution_count": null,
   "metadata": {},
   "outputs": [],
   "source": []
  }
 ],
 "metadata": {
  "kernelspec": {
   "display_name": "Python 3",
   "language": "python",
   "name": "python3"
  },
  "language_info": {
   "codemirror_mode": {
    "name": "ipython",
    "version": 3
   },
   "file_extension": ".py",
   "mimetype": "text/x-python",
   "name": "python",
   "nbconvert_exporter": "python",
   "pygments_lexer": "ipython3",
   "version": "3.8.7"
  }
 },
 "nbformat": 4,
 "nbformat_minor": 4
}
