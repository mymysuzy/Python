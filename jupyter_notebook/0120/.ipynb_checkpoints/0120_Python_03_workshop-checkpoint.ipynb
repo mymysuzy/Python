{
 "cells": [
  {
   "cell_type": "markdown",
   "metadata": {},
   "source": [
    "# Workshop\n"
   ]
  },
  {
   "cell_type": "markdown",
   "metadata": {},
   "source": [
    "## 1. List의 합 구하기\n",
    "\n",
    "> 정수로만 이루어진 list를 전달 받아 해당 list의 모든 요소들의 합을 반환하는 list_sum\n",
    "함수를 built-in 함수인 sum() 함수를 사용하지 않고 작성하시오\n",
    "\n",
    "---\n",
    "\n",
    "```\n",
    "list_sum([1, 2, 3, 4, 5]) #=> 15\n",
    "```"
   ]
  },
  {
   "cell_type": "code",
   "execution_count": 10,
   "metadata": {},
   "outputs": [
    {
     "name": "stdout",
     "output_type": "stream",
     "text": [
      "15\n"
     ]
    }
   ],
   "source": [
    "numbers = [1, 2, 3, 4, 5]\n",
    "\n",
    "def list_sum(numbers):\n",
    "    sum=0\n",
    "    for number in numbers:\n",
    "        sum+=number\n",
    "    return sum\n",
    "    \n",
    "print(list_sum(numbers))"
   ]
  },
  {
   "cell_type": "markdown",
   "metadata": {},
   "source": [
    "## 2. Dictionary로 이루어진 List의 합 구하기\n",
    "\n",
    "> Dictionary로 이루어진 list를 전달 받아 모든 dictionary의 'age' key에 해당하는 value\n",
    "들의 합을 반환하는 dict_list_sum 함수를 built-in 함수인 sum() 함수를 사용하지 않고\n",
    "작성하시오\n",
    "\n",
    "---\n",
    "```python\n",
    "dict_list_sum([{'name':'kim','age': 12},\n",
    "               {'name':'lee','age':4}]) #=> 16\n",
    "               \n",
    "```\n"
   ]
  },
  {
   "cell_type": "code",
   "execution_count": 16,
   "metadata": {},
   "outputs": [
    {
     "name": "stdout",
     "output_type": "stream",
     "text": [
      "16\n"
     ]
    }
   ],
   "source": [
    "ages=[{'name':'kim','age': 12},\n",
    "               {'name':'lee','age':4}]\n",
    "\n",
    "def list_sum(ages):\n",
    "    total=0\n",
    "    for age in ages:\n",
    "        total+=age['age']\n",
    "    return total\n",
    "print(list_sum(ages))"
   ]
  },
  {
   "cell_type": "code",
   "execution_count": null,
   "metadata": {},
   "outputs": [],
   "source": []
  },
  {
   "cell_type": "code",
   "execution_count": null,
   "metadata": {},
   "outputs": [],
   "source": []
  },
  {
   "cell_type": "markdown",
   "metadata": {},
   "source": [
    "## 3. 2차원 List의 전체 합 구하기\n",
    "\n",
    "> 정수로만 이루어진 2차원 list를 전달 받아 해당 list의 모든 요소들의 합을 반환하는\n",
    "all_list_sum 함수를 built-in 함수인 sum() 함수를 사용하지 않고 작성하시오.\n",
    "\n",
    "---\n",
    "```\n",
    "all_list_sum([[1], [2, 3], [4, 5, 6], [7, 8, 9, 10]]) #=> 55\n",
    "```"
   ]
  },
  {
   "cell_type": "code",
   "execution_count": null,
   "metadata": {},
   "outputs": [],
   "source": []
  },
  {
   "cell_type": "code",
   "execution_count": null,
   "metadata": {},
   "outputs": [],
   "source": []
  },
  {
   "cell_type": "code",
   "execution_count": null,
   "metadata": {},
   "outputs": [],
   "source": []
  },
  {
   "cell_type": "code",
   "execution_count": null,
   "metadata": {},
   "outputs": [],
   "source": []
  }
 ],
 "metadata": {
  "kernelspec": {
   "display_name": "Python 3",
   "language": "python",
   "name": "python3"
  },
  "language_info": {
   "codemirror_mode": {
    "name": "ipython",
    "version": 3
   },
   "file_extension": ".py",
   "mimetype": "text/x-python",
   "name": "python",
   "nbconvert_exporter": "python",
   "pygments_lexer": "ipython3",
   "version": "3.8.7"
  }
 },
 "nbformat": 4,
 "nbformat_minor": 4
}
