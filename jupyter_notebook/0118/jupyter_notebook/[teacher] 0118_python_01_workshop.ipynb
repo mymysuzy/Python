{
 "cells": [
  {
   "cell_type": "markdown",
   "metadata": {},
   "source": [
    "## 1. 세로로 출력하기\n",
    "\n",
    "자연수 number를 입력받아, 1부터 number까지의 수를 세로로 한 줄 씩 출력하시오.\n",
    "\n",
    "[참고]\n",
    "보통 자연수라 함은 양의 정수를 말한다. 0제외."
   ]
  },
  {
   "cell_type": "code",
   "execution_count": null,
   "metadata": {},
   "outputs": [],
   "source": [
    "# for문\n",
    "numbers = int(input())\n",
    "\n",
    "for number in range(1,numbers+1):\n",
    "    print(number)"
   ]
  },
  {
   "cell_type": "code",
   "execution_count": null,
   "metadata": {},
   "outputs": [],
   "source": [
    "# while문\n",
    "numbers = int(input())\n",
    "\n",
    "i=0\n",
    "number=int(input())\n",
    "while i<=number:\n",
    "    print(i)\n",
    "    i+=1\n",
    "    \n",
    "# range 의 앞에는 <=,>=,<,> 를 지원하지 않는다."
   ]
  },
  {
   "cell_type": "markdown",
   "metadata": {},
   "source": [
    "## 2. 거꾸로 세로로 출력하기\n",
    "\n",
    "자연수 number를 입력받아, number부터 **0까지의 수**를 세로로 한줄씩 출력하시오."
   ]
  },
  {
   "cell_type": "code",
   "execution_count": 2,
   "metadata": {},
   "outputs": [
    {
     "name": "stdout",
     "output_type": "stream",
     "text": [
      "4\n",
      "4\n",
      "3\n",
      "2\n",
      "1\n",
      "0\n"
     ]
    }
   ],
   "source": [
    "# for문\n",
    "number = int(input())\n",
    "for i in range(number,-1,-1):\n",
    "    print(i)\n"
   ]
  },
  {
   "cell_type": "markdown",
   "metadata": {},
   "source": [
    "## 3. N줄 덧셈 (SWEA #2025)\n",
    "\n",
    "입력으로 자연수 number가 주어질 때, 1부터 주어진 자연수 number까지를 모두 더한 값을 출력하시오. 단, 주어지는 숫자는 10000을 넘지 않는다. 예를 들어, 주어진 숫자가 10일 경우 1 + 2 + 3 + 4 + 5 + 6 + 7 + 8 + 9 + 10 = 55이므로, 출력해야 할 값은 55이다."
   ]
  },
  {
   "cell_type": "code",
   "execution_count": null,
   "metadata": {},
   "outputs": [],
   "source": [
    "# for문\n",
    "n = int(input())\n",
    "sum = 0\n",
    "for i in range(1, n+1):\n",
    "    sum+=i\n",
    "print(sum)"
   ]
  },
  {
   "cell_type": "code",
   "execution_count": 1,
   "metadata": {},
   "outputs": [
    {
     "name": "stdout",
     "output_type": "stream",
     "text": [
      "10\n",
      "55\n"
     ]
    }
   ],
   "source": [
    "# while 문3\n",
    "numbers = int(input())\n",
    "\n",
    "sum=0\n",
    "i=0\n",
    "while i < numbers:\n",
    "    i+=1\n",
    "    sum+=i\n",
    "    \n",
    "    \n",
    "print(sum)\n"
   ]
  }
 ],
 "metadata": {
  "kernelspec": {
   "display_name": "Python 3",
   "language": "python",
   "name": "python3"
  },
  "language_info": {
   "codemirror_mode": {
    "name": "ipython",
    "version": 3
   },
   "file_extension": ".py",
   "mimetype": "text/x-python",
   "name": "python",
   "nbconvert_exporter": "python",
   "pygments_lexer": "ipython3",
   "version": "3.8.7"
  }
 },
 "nbformat": 4,
 "nbformat_minor": 4
}
