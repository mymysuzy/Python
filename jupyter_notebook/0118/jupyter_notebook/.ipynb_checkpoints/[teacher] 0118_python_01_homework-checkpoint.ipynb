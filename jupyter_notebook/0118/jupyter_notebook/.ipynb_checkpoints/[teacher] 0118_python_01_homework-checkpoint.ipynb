{
 "cells": [
  {
   "cell_type": "markdown",
   "metadata": {},
   "source": [
    "## 1. python에서 사용할 수 없는 식별자(예약어)를 찾아 작성하시오."
   ]
  },
  {
   "cell_type": "code",
   "execution_count": null,
   "metadata": {},
   "outputs": [],
   "source": [
    "and, assert, break, class, continue, def, del, elif, else, except, exec, finally, for, from, global, if, import, in, is, lambda, not, or, pass, print, raise, return, try, while, with, yield"
   ]
  },
  {
   "cell_type": "markdown",
   "metadata": {},
   "source": [
    "[참고1] 구지 외우지 않아도 아래의 코드로 찾을 수 있다."
   ]
  },
  {
   "cell_type": "code",
   "execution_count": null,
   "metadata": {},
   "outputs": [],
   "source": [
    "import keyword\n",
    "print(keyword.kwlist)"
   ]
  },
  {
   "cell_type": "markdown",
   "metadata": {},
   "source": [
    "[참고2] 예시로 print 를 변수로 사용해보았다."
   ]
  },
  {
   "cell_type": "code",
   "execution_count": null,
   "metadata": {},
   "outputs": [],
   "source": [
    "# print는 이제 'hi'라는 값으로 인식되기 때문에 이전의 기능을 수행할 수 없다...\n",
    "print = 'hi'\n",
    "print(5)\n",
    "\n"
   ]
  },
  {
   "cell_type": "markdown",
   "metadata": {},
   "source": [
    "## 2. 실수 비교"
   ]
  },
  {
   "cell_type": "markdown",
   "metadata": {},
   "source": [
    "> python은 부동소수점 방식을 이용하여 실수(float)를 표현하는 과정에서, 나타내고자 하는 값과의 오차가 발생하여 원하는 대로 연산 또는 비교가 되지 않을 때가 있다. \n",
    "\n",
    "> 이를 참고하여, 아래와 같은 두 실수 값을 올바르게 비교하기 위한 코드를 작성하시오.\n",
    "\n",
    "> num1 = 0.1*3\n",
    "\n",
    "> num2= 0.3"
   ]
  },
  {
   "cell_type": "code",
   "execution_count": null,
   "metadata": {},
   "outputs": [],
   "source": [
    "# 1. 기본적인 처리방법\n",
    "abs(num1-num2) <= 1e-10\n",
    "True"
   ]
  },
  {
   "cell_type": "code",
   "execution_count": null,
   "metadata": {},
   "outputs": [],
   "source": [
    "# 2. sys모듈 통해 처리하는 방법\n",
    "# (epsilon은 부동소수점 연산에서 반올림을 함으로서 발생하는 오차 상환)\n",
    "import sys\n",
    "abs(num1 - num2) <= sys.float_info.epsilon\n",
    "True"
   ]
  },
  {
   "cell_type": "code",
   "execution_count": null,
   "metadata": {},
   "outputs": [],
   "source": [
    "# 3. python 3.5부터 활용 가능한 math 모듈을 통해 처리\n",
    "import math\n",
    "math.isclose(num1,num2)\n",
    "True"
   ]
  },
  {
   "cell_type": "markdown",
   "metadata": {},
   "source": [
    "## 3. 이스케이프 시퀀스\n",
    "\n",
    "> (1) 줄 바꿈, (2) 탭, (3) 백슬래시를 의미하는 이스케이프 시퀀스를 작성하시오."
   ]
  },
  {
   "cell_type": "code",
   "execution_count": null,
   "metadata": {},
   "outputs": [],
   "source": [
    "(1) 줄 바꿈 이스케이프 시퀀스 == \\n\n",
    "(2) 탭 이스케이프 시퀀스 == \\t\n",
    "(3) 백슬래시 이스케이프 시퀀스 == \\\\"
   ]
  },
  {
   "cell_type": "markdown",
   "metadata": {},
   "source": [
    "## 4. String Interpolation\n",
    "\n",
    "> “안녕, 철수야\"를 string interpolation을 사용하여 출력하시오.\n",
    "\n",
    "[참고] string interpolation == f-string"
   ]
  },
  {
   "cell_type": "code",
   "execution_count": null,
   "metadata": {},
   "outputs": [],
   "source": [
    "print( f'안녕 {name}야')"
   ]
  },
  {
   "cell_type": "markdown",
   "metadata": {},
   "source": [
    "## 5. 형 변환\n",
    "\n",
    "> 다음 중, 실행 시 오류가 발생하는 코드를 고르시오.\n",
    "\n",
    "```python\n",
    "str(1)\n",
    "int('30')\n",
    "int(5)\n",
    "bool('50')\n",
    "int('3.5') \n",
    "```\n",
    "\n",
    "[참고] \n",
    "\n",
    "* bool 에서 True가 결과값인 이유는 \n",
    "\n",
    "  bool에서는 0은 False 이며, 0이외의 나머지 숫자는 True기 때문이다."
   ]
  },
  {
   "cell_type": "code",
   "execution_count": null,
   "metadata": {},
   "outputs": [],
   "source": [
    "\n",
    "int('3.5') # int가 float 보다 표현할 수 있는 수의 범위가 작기 때문에 오류발생\n",
    "           # ValueError!"
   ]
  },
  {
   "cell_type": "markdown",
   "metadata": {},
   "source": [
    "## 6. 네모 출력\n",
    "\n",
    "두 개의 정수 n과 m이 주어졌을 때, 가로의 길이가 n, 세로의 길이가 m인 직사각형 형태를 별(*)문자를 이용하여 출력하시오. 단, 반복문은 사용할 수 없다."
   ]
  },
  {
   "cell_type": "code",
   "execution_count": null,
   "metadata": {},
   "outputs": [],
   "source": [
    "n=5\n",
    "m=9\n",
    "print((n*'*'+'\\n')*m)"
   ]
  },
  {
   "cell_type": "markdown",
   "metadata": {},
   "source": [
    "## 7. 이스케이프 시퀀스 응용\n",
    "\n",
    "print()함수를 한 번만 사용하여 다음 문장을 출력하시오.\n",
    "\n",
    "> \"파일은 c:\\Windows\\Users\\내문서\\Python에 저장이 되었습니다.\"\n",
    "> 나는 생각했다. 'cd를 써서 git bash로 들어가 봐야지.'"
   ]
  },
  {
   "cell_type": "code",
   "execution_count": null,
   "metadata": {},
   "outputs": [],
   "source": [
    "print(\"\"\" \\\"파일은 c:\\Windows\\\\Users\\\\내문서\\\\Python에 저장이 되었습니다.\\\"\n",
    "나는 생각했다. \\'cd를 써서 git bash로 들어가봐야지.\\'\n",
    "\"\"\")"
   ]
  },
  {
   "cell_type": "markdown",
   "metadata": {},
   "source": [
    "## 8. 근의 공식"
   ]
  },
  {
   "cell_type": "code",
   "execution_count": null,
   "metadata": {},
   "outputs": [],
   "source": [
    "-b+(b**2-4*a*c)**0.5/(2*a) or -b-(b**2-4*a*c)**0.5/(2*a)"
   ]
  }
 ],
 "metadata": {
  "kernelspec": {
   "display_name": "Python 3",
   "language": "python",
   "name": "python3"
  },
  "language_info": {
   "codemirror_mode": {
    "name": "ipython",
    "version": 3
   },
   "file_extension": ".py",
   "mimetype": "text/x-python",
   "name": "python",
   "nbconvert_exporter": "python",
   "pygments_lexer": "ipython3",
   "version": "3.8.7"
  }
 },
 "nbformat": 4,
 "nbformat_minor": 4
}
