{
 "cells": [
  {
   "cell_type": "markdown",
   "metadata": {},
   "source": [
    "## 1. 이름 공간(Namespace)\n",
    "\n",
    "Python에서 변수를 찾을 때 접근하는 이름 공간을 순서대로 작성하시오."
   ]
  },
  {
   "cell_type": "code",
   "execution_count": null,
   "metadata": {},
   "outputs": [],
   "source": [
    "LEGB\n",
    "L Local    # 함수 안\n",
    "E Enclosed # 상위\n",
    "G Global   # 모듈\n",
    "B Build-in # 내장함수"
   ]
  },
  {
   "cell_type": "markdown",
   "metadata": {},
   "source": [
    "## 2. 매개변수와 인자, 그리고 반환\n",
    "\n",
    "아래의 보기 (1) ~ (4) 중에서, 옳지 않은 것을 고르시오.\n",
    "\n",
    "(1) 함수는 오직 하나의 객체만 반환할 수 있으므로 'return a, b'와같이 쓸 수 없다.\n",
    "\n",
    "(2) 함수에서 return을 작성하지 않으면 None 값을 반환한다.\n",
    "\n",
    "(3) 함수의 매개변수(parameter)는 함수를 선언할 때 설정한 값이며, \n",
    "    전달 인자(argument)는 함수를 호출할 때 넘겨주는 값이다.\n",
    "    \n",
    "(4) 가변 인자를 설정할 때는 인자 앞에 * 을 붙이고, 이 때는 함수 내에서 tuple로 처리 된다."
   ]
  },
  {
   "cell_type": "code",
   "execution_count": null,
   "metadata": {},
   "outputs": [],
   "source": [
    "(1) : 쓸 수 있다. 다만, tuple로서 반환되기 때문에 하나의 객체만 반환되는 형태가 맞다고 말할 수 있다."
   ]
  },
  {
   "cell_type": "markdown",
   "metadata": {},
   "source": [
    "## 3. 재귀 함수\n",
    "\n",
    "재귀 함수를 사용했을 때 얻을 수 있는 장점과 단점을 반복문과 비교하여 작성하시오."
   ]
  },
  {
   "cell_type": "markdown",
   "metadata": {},
   "source": [
    "## 장점\n",
    "* 특정 상황에서는 반복문을 사용했을 때 보다 재귀적 표현이 가독성을 높여준다.\n",
    "* 반복문을 사용했을 때에 비해 변수사용을 줄여주어 오류가 생길 가능성이 줄어든다."
   ]
  },
  {
   "cell_type": "markdown",
   "metadata": {},
   "source": [
    "## 단점\n",
    "* 함수의 call스텍이 반복적으로 이루어지기 때문에 메모리를 많이 차지하여 다소 느릴 수 있다."
   ]
  }
 ],
 "metadata": {
  "kernelspec": {
   "display_name": "Python 3",
   "language": "python",
   "name": "python3"
  },
  "language_info": {
   "codemirror_mode": {
    "name": "ipython",
    "version": 3
   },
   "file_extension": ".py",
   "mimetype": "text/x-python",
   "name": "python",
   "nbconvert_exporter": "python",
   "pygments_lexer": "ipython3",
   "version": "3.8.7"
  },
  "toc": {
   "base_numbering": 1,
   "nav_menu": {},
   "number_sections": true,
   "sideBar": true,
   "skip_h1_title": false,
   "title_cell": "Table of Contents",
   "title_sidebar": "Contents",
   "toc_cell": false,
   "toc_position": {},
   "toc_section_display": true,
   "toc_window_display": false
  }
 },
 "nbformat": 4,
 "nbformat_minor": 5
}
