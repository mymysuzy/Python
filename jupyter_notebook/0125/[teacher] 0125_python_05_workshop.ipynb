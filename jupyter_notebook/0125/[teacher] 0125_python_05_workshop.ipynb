{
 "cells": [
  {
   "cell_type": "markdown",
   "metadata": {},
   "source": [
    "# Workshop"
   ]
  },
  {
   "cell_type": "markdown",
   "metadata": {},
   "source": [
    "## 1. 평균 점수 구하기\n",
    "key 값으로 과목명, value 값으로 점수를 가지는 dictionary를 전달 받아, 전체 과목의\n",
    "평균 점수를 반환하는 함수 get_dict_avg 함수를 작성하시오."
   ]
  },
  {
   "cell_type": "markdown",
   "metadata": {},
   "source": [
    "get_dict_avg({\n",
    "\n",
    "    'python':80,\n",
    "    \n",
    "    'algotrithm':90,\n",
    "    \n",
    "    'django':89,\n",
    "    \n",
    "    'web':83\n",
    "    \n",
    "}) #=> 85.5\n"
   ]
  },
  {
   "cell_type": "code",
   "execution_count": 27,
   "metadata": {},
   "outputs": [
    {
     "data": {
      "text/plain": [
       "85.5"
      ]
     },
     "execution_count": 27,
     "metadata": {},
     "output_type": "execute_result"
    }
   ],
   "source": [
    "\n",
    "\n",
    "def get_dict_avg(scores):\n",
    "    result=[]\n",
    "\n",
    "    for score in scores.values():\n",
    "        result+=[score]\n",
    "\n",
    "        \n",
    "    return sum(result)/len(result)\n",
    "    \n",
    "get_dict_avg({\n",
    "\n",
    "'python':80,\n",
    "\n",
    "'algotrithm':90,\n",
    "\n",
    "'django':89,\n",
    "\n",
    "'web':83\n",
    "}) \n"
   ]
  },
  {
   "cell_type": "markdown",
   "metadata": {},
   "source": [
    "## 2. 혈액형 분류하기\n",
    "여러 사람의 혈액형(A, B, AB, O)에 대한 정보가 담긴 list를 전달 받아, key는 혈액형의\n",
    "종류, value는 사람 수인 dictionary를 반환하는 count_blood 함수를 작성하시오.\n",
    "\n",
    "```python\n",
    "count_blood([\n",
    "    'A','B','A','O','AB',\n",
    "    'O', 'A', 'B', 'O','B','AB'\n",
    "]) \n",
    "#=> {'A':3, 'B':3, 'O':3, 'AB':3}\n",
    "```\n"
   ]
  },
  {
   "cell_type": "code",
   "execution_count": 36,
   "metadata": {},
   "outputs": [
    {
     "data": {
      "text/plain": [
       "{'A': 3, 'B': 3, 'O': 3, 'AB': 3}"
      ]
     },
     "execution_count": 36,
     "metadata": {},
     "output_type": "execute_result"
    }
   ],
   "source": [
    "def count_blood(blood_list):\n",
    "\n",
    "    blood_dict = {}\n",
    "\n",
    "    for blood in blood_list:\n",
    "        if blood_dict.get(blood):\n",
    "            blood_dict[blood] += 1  \n",
    "        else:\n",
    "            blood_dict[blood] = 1  \n",
    "    return blood_dict\n",
    "\n",
    "count_blood([\n",
    "    'A','B','A','O','AB','AB',\n",
    "    'O', 'A', 'B', 'O','B','AB'\n",
    "]) "
   ]
  },
  {
   "cell_type": "markdown",
   "metadata": {},
   "source": [
    "### 딕셔너리에 Key, value값 넣는 방법\n",
    "\n",
    "```python\n",
    "my_dict={}\n",
    "\n",
    "my_dict['a']=5\n",
    "\n",
    "my_dict = {'a':5}\n",
    "```"
   ]
  },
  {
   "cell_type": "code",
   "execution_count": null,
   "metadata": {},
   "outputs": [],
   "source": []
  },
  {
   "cell_type": "code",
   "execution_count": null,
   "metadata": {},
   "outputs": [],
   "source": []
  },
  {
   "cell_type": "code",
   "execution_count": null,
   "metadata": {},
   "outputs": [],
   "source": []
  },
  {
   "cell_type": "code",
   "execution_count": null,
   "metadata": {},
   "outputs": [],
   "source": []
  }
 ],
 "metadata": {
  "kernelspec": {
   "display_name": "Python 3",
   "language": "python",
   "name": "python3"
  },
  "language_info": {
   "codemirror_mode": {
    "name": "ipython",
    "version": 3
   },
   "file_extension": ".py",
   "mimetype": "text/x-python",
   "name": "python",
   "nbconvert_exporter": "python",
   "pygments_lexer": "ipython3",
   "version": "3.8.7"
  },
  "toc": {
   "base_numbering": 1,
   "nav_menu": {},
   "number_sections": true,
   "sideBar": true,
   "skip_h1_title": false,
   "title_cell": "Table of Contents",
   "title_sidebar": "Contents",
   "toc_cell": false,
   "toc_position": {},
   "toc_section_display": true,
   "toc_window_display": false
  }
 },
 "nbformat": 4,
 "nbformat_minor": 4
}
