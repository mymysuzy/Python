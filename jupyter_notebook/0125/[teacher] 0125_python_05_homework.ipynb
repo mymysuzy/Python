{
 "cells": [
  {
   "cell_type": "markdown",
   "metadata": {},
   "source": [
    "# Homework\n",
    " > 학습해야 할 내용\n",
    "\n",
    "    ✓ 데이터 구조\n",
    "\n",
    "    ✓ 메서드\n"
   ]
  },
  {
   "cell_type": "markdown",
   "metadata": {},
   "source": [
    "## 1. 모음은 몇 개나 있을까?\n",
    "문자열을 전달 받아 해당 문자열의 모음 갯수를 반환하는 count_vowels 함수를\n",
    "작성하시오. 단, .count() 메서드를 활용하여 작성하시오."
   ]
  },
  {
   "cell_type": "markdown",
   "metadata": {},
   "source": [
    "```python\n",
    "count_vowels('apple') #=> 2\n",
    "\n",
    "count_vowels('banana') #=> 3\n",
    "```"
   ]
  },
  {
   "cell_type": "code",
   "execution_count": 11,
   "metadata": {},
   "outputs": [
    {
     "data": {
      "text/plain": [
       "3"
      ]
     },
     "execution_count": 11,
     "metadata": {},
     "output_type": "execute_result"
    }
   ],
   "source": [
    "# 방법 1. 리스트를 따로 생성하여 \n",
    "def count_vowels(words):\n",
    "    vowels = 'aeiou'\n",
    "    not_vowels=[]\n",
    "    count=0\n",
    "    for word in words:\n",
    "        if word in vowels:\n",
    "            not_vowels+=word\n",
    "    return len(not_vowels)\n",
    "\n",
    "\n",
    "count_vowels('banana')"
   ]
  },
  {
   "cell_type": "code",
   "execution_count": 14,
   "metadata": {},
   "outputs": [
    {
     "data": {
      "text/plain": [
       "2"
      ]
     },
     "execution_count": 14,
     "metadata": {},
     "output_type": "execute_result"
    }
   ],
   "source": [
    "# 방법 2. 오직 count로\n",
    "def count_vowels(words):\n",
    "    vowels = 'aeiou'\n",
    "    count=0\n",
    "    for word in words:\n",
    "        if word in vowels:\n",
    "            count+=1\n",
    "    return count\n",
    "\n",
    "count_vowels('apple')"
   ]
  },
  {
   "cell_type": "markdown",
   "metadata": {},
   "source": [
    "## 2. 문자열 조작\n",
    "다음 중, 문자열(string)을 조작하는 방법으로 옳지 않은 것을 고르시오\n",
    "\n",
    "```\n",
    "(1) .find(x)는 x의 첫번째 위치를 반환한다. 없으면 -1을 반환한다.\n",
    "\n",
    "(2) .split([chars])은 특정 문자를 지정하면 문자열을 특정 문자를 기준으로 나누어 list로 반환한다. \n",
    "    특정 문자를 지정하지 않으면 공백을 기준으로 나눈다.\n",
    "\n",
    "(3) .replace(old, new[, count])는 바꿀 대상 문자를 새로운 문자로 바꿔서 반환한다.\n",
    "\n",
    "(4) .strip([chars])은 특정 문자를 지정하면, 양쪽에서 해당 문자를 찾아 제거한다. \n",
    "    특정 문자를 지정하지 않으면 오류가 발생한다.\n",
    "```\n"
   ]
  },
  {
   "cell_type": "markdown",
   "metadata": {},
   "source": [
    "(4) 번.\n",
    "    \n",
    "    특정 문자를 지정할 경우엔 양쪽에서 해당 문자를 찾아 제거하는 것은 맞다. \n",
    "    \n",
    "    하지만 지정하지 않으면 좌우 모든 공백을 제거하기 때문에 오답이 된다."
   ]
  },
  {
   "cell_type": "markdown",
   "metadata": {},
   "source": [
    "## 3. 정사각형만 만들기\n",
    "각각 너비와 높이의 값으로 이루어진 2개의 list를 전달 받아, 각각의 값들을 조합하여\n",
    "만들 수 있는 정사각형만의 넓이를 담은 list를 반환하는 only_square_area 함수를\n",
    "작성하시오.\n",
    "\n",
    "```python\n",
    "only_square_area([32, 55, 63], [13, 32, 40, 55]) #=> [1024, 3025]\n",
    "```"
   ]
  },
  {
   "cell_type": "code",
   "execution_count": 35,
   "metadata": {},
   "outputs": [
    {
     "data": {
      "text/plain": [
       "[1024, 3025]"
      ]
     },
     "execution_count": 35,
     "metadata": {},
     "output_type": "execute_result"
    }
   ],
   "source": [
    "def only_square_area(numbers1,numbers2):\n",
    "    total=[]\n",
    "    for i in numbers1:\n",
    "        for j in numbers2:\n",
    "            if i == j:\n",
    "                total.append(i**2)\n",
    "    return total\n",
    "            \n",
    "\n",
    "        \n",
    "only_square_area([32, 55, 63], [13, 32, 40, 55])"
   ]
  },
  {
   "cell_type": "code",
   "execution_count": null,
   "metadata": {},
   "outputs": [],
   "source": []
  },
  {
   "cell_type": "code",
   "execution_count": null,
   "metadata": {},
   "outputs": [],
   "source": []
  },
  {
   "cell_type": "code",
   "execution_count": null,
   "metadata": {},
   "outputs": [],
   "source": []
  },
  {
   "cell_type": "code",
   "execution_count": null,
   "metadata": {},
   "outputs": [],
   "source": []
  }
 ],
 "metadata": {
  "kernelspec": {
   "display_name": "Python 3",
   "language": "python",
   "name": "python3"
  },
  "language_info": {
   "codemirror_mode": {
    "name": "ipython",
    "version": 3
   },
   "file_extension": ".py",
   "mimetype": "text/x-python",
   "name": "python",
   "nbconvert_exporter": "python",
   "pygments_lexer": "ipython3",
   "version": "3.8.7"
  },
  "toc": {
   "base_numbering": 1,
   "nav_menu": {},
   "number_sections": true,
   "sideBar": true,
   "skip_h1_title": false,
   "title_cell": "Table of Contents",
   "title_sidebar": "Contents",
   "toc_cell": false,
   "toc_position": {},
   "toc_section_display": true,
   "toc_window_display": false
  }
 },
 "nbformat": 4,
 "nbformat_minor": 4
}
