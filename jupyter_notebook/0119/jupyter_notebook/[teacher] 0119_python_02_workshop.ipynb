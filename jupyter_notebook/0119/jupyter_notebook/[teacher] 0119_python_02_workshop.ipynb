{
 "cells": [
  {
   "cell_type": "markdown",
   "metadata": {},
   "source": [
    "# Workshop\n",
    "> 데이터 & 제어문"
   ]
  },
  {
   "cell_type": "markdown",
   "metadata": {},
   "source": [
    "## 1. 간단한 N의 약수 (SWEA #1933)\n",
    "\n",
    "> 입력으로 1개의 정수 N이 주어진다. 정수 N의 약수를 오름차순으로 출력하는 프로그램을 작성하시오.\n",
    "\n",
    "---\n",
    "\n",
    "```\n",
    "[제약 사항]\n",
    "N은 1이상 1,000이하의 정수이다. (1 ≤ N ≤ 1,000)\n",
    " \n",
    "[입력 예시]\n",
    "입력으로 정수 N이 주어진다.\n",
    "\n",
    "[출력 예시]\n",
    "정수 N의 모든 약수를 오름차순으로 출력한다.\n",
    "```"
   ]
  },
  {
   "cell_type": "code",
   "execution_count": 1,
   "metadata": {},
   "outputs": [
    {
     "name": "stdout",
     "output_type": "stream",
     "text": [
      "1\n",
      "2\n",
      "5\n",
      "10\n"
     ]
    }
   ],
   "source": [
    "N = 10\n",
    "\n",
    "for i in range(1,N+1):\n",
    "    if N%i ==0:\n",
    "        print(i)\n",
    "\n"
   ]
  },
  {
   "cell_type": "markdown",
   "metadata": {},
   "source": [
    "## 2. 중간값 찾기 (SWEA #2063 변형)\n",
    "\n",
    "> 중간값은 통계 집단의 수치를 크기 순으로 배열 했을 때 전체의 중앙에 위치하는 수치를 뜻한다. 리스트 numbers에 입력된 숫자에서 중간값을 출력하라.\n",
    "\n",
    "---\n",
    "```python\n",
    "[출력 예시]\n",
    "64\n",
    "```\n",
    "> [소현이 설명]\n",
    "\n",
    "> [1, 5, 7, 10] 의 중간값은 len = 4/2 = 2.0 으로, [2]값인 7이 중간값이 된다. \n",
    "[1,5,10] 의 중간값은 len = 3/2 = 1.5 즉 1이므로, [1]값인 5가 중간값이 된다.\n",
    "허나 이는 리스트안의 숫자들이 모두 오름차순 혹은 내림차순으로 예쁘게 정렬되어있을 경우!\n",
    "만약 뒤죽박죽이라면 sorted 함수로 예쁘게 정렬 후 중간값을 찾아야 한다."
   ]
  },
  {
   "cell_type": "code",
   "execution_count": 6,
   "metadata": {},
   "outputs": [
    {
     "name": "stdout",
     "output_type": "stream",
     "text": [
      "64\n"
     ]
    }
   ],
   "source": [
    "numbers = [\n",
    "    85, 72, 38, 80, 69, 65, 68, 96, 22, 49, 67,\n",
    "    51, 61, 63, 87, 66, 24, 80, 83, 71, 60, 64, \n",
    "    52, 90, 60, 49, 31, 23, 99, 94, 11, 25, 24\n",
    "]\n",
    "\n",
    "# 아래에 코드를 작성하시오.\n",
    "\n",
    "center_index = len(numbers)//2    # 나누고 난 후 /은 실수형으로, //은 정수형으로 결과값을 반영한다\n",
    "\n",
    "sorted_numbers = sorted(numbers)\n",
    "\n",
    "print(sorted_numbers[center_index])"
   ]
  },
  {
   "cell_type": "markdown",
   "metadata": {},
   "source": [
    "## 3. 계단 만들기\n",
    "\n",
    "> 자연수 number를 입력 받아, 아래와 같이 높이가 number인 내려가는 계단을 출력하시오.\n",
    "\n",
    "---\n",
    "```\n",
    "[입력 예시]\n",
    "4\n",
    "\n",
    "[출력 예시]\n",
    "1\n",
    "1 2\n",
    "1 2 3\n",
    "1 2 3 4\n",
    "```"
   ]
  },
  {
   "cell_type": "code",
   "execution_count": null,
   "metadata": {},
   "outputs": [],
   "source": [
    "number = int(input())\n",
    "\n",
    "for i in range(1, number+1):\n",
    "    for j in range(1, i+1):\n",
    "        print(j, end=' ')\n",
    "    print()\n",
    "    "
   ]
  },
  {
   "cell_type": "markdown",
   "metadata": {},
   "source": [
    "## print문의 옵션 (sep,end,format)\n",
    "\n",
    "* **sep**\n",
    " - 구분자의 역할. 분리하여 출력할 수 있으며 어떤 문자열로 분리할지 결정할 수 있다. \n",
    " \n",
    "> print('S','E','P', sep='@')\n",
    "> 출력 >>>>> S@E@P\n",
    "\n",
    "\n",
    "\n",
    "* **end**\n",
    " - 출력값의 마지막 부분을 조정한다. end=' '를 사용하면 뒤에 나오는 출력값과 이어서 출력한다. 즉, 줄바꿈X\n",
    " \n",
    "> print(\"I like\", end=\" \")\n",
    "> print(\"money\")\n",
    "> 출력 >>>>> I like money\n",
    "\n",
    "\n",
    "\n",
    "* **format**\n",
    " - 특정 서식에 따라 문자를 출력할 수 있다. \n",
    "\n",
    "> print(\"{0}월{1}일 입니다.\".format(10,31))\n",
    "> 출력 >>>>> 10월31일 입니다.\n",
    "\n",
    "\n",
    "\n",
    "* **%기호 사용한 format**\n",
    " - print문에 %s : 문자열 , %d : 정수 , %f : 실수로 삽입될 부분 지정 후 %(값1, 값2, 값3) 형태로 사용한다.\n",
    " - 데이터 형태를 미리 지정해야 하므로 format보다 까다로움.\n",
    " - 출력문과 %(값) 사이에 콤마가 들어가지 않는다!\n",
    " \n",
    "> print(\"%s을 %d개 주세요.\"%(\"아이스크림\", 10))\n",
    "> 출력 >>>>> 아이스크림을 10개 주세요.\n",
    "\n",
    "\n"
   ]
  }
 ],
 "metadata": {
  "kernelspec": {
   "display_name": "Python 3",
   "language": "python",
   "name": "python3"
  },
  "language_info": {
   "codemirror_mode": {
    "name": "ipython",
    "version": 3
   },
   "file_extension": ".py",
   "mimetype": "text/x-python",
   "name": "python",
   "nbconvert_exporter": "python",
   "pygments_lexer": "ipython3",
   "version": "3.8.7"
  }
 },
 "nbformat": 4,
 "nbformat_minor": 4
}
