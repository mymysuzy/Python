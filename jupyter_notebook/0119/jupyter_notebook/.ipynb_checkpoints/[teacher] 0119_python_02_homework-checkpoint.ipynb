{
 "cells": [
  {
   "cell_type": "markdown",
   "metadata": {},
   "source": [
    "# Homework\n",
    "> 데이터 & 제어문"
   ]
  },
  {
   "cell_type": "markdown",
   "metadata": {},
   "source": [
    "## 1. mutable & immutable\n",
    "제시 된 컨테이너들을 각각, 일부를 변경 가능한 것(mutable)과 변경 불가능한 것(immutable)으로 분류하시오.\n",
    "\n",
    "[참고] Call by Value, Call by Reference 와 같은 개념이다."
   ]
  },
  {
   "cell_type": "markdown",
   "metadata": {},
   "source": [
    "### mutable\n",
    "list, set, dictionary\n",
    "\n",
    "### immutable\n",
    "literal(number, string,bool), tuple, range()"
   ]
  },
  {
   "cell_type": "markdown",
   "metadata": {},
   "source": [
    "### [참고] 시퀀스형과 비 시퀀스 형\n",
    "\n",
    "> 시퀀스형이란? \n",
    "\n",
    "비록 순서대로 나열되있진 않더라도 순서를 가지고 있으며 특정 위치의 데이터를 가리킬 수 있는 것\n",
    "\n",
    "\n",
    " - 순서가 있다. \n",
    " - 연속형 자료형. \n",
    " - 인덱싱, 슬라이싱이 가능하다.\n",
    " \n",
    " \n",
    " \n",
    "\n",
    "1. 시퀀스형\n",
    " - list (데이터 수정 가능)\n",
    " - tuple (데이터 수정 불가능)\n",
    " - range\n",
    " - string\n",
    " - binary (따로 다루진 않을 것)\n",
    " \n",
    " \n",
    "2. 비시퀀스형\n",
    " - set (순서가 없음, 중복된 값 없음)\n",
    " - dictionary (key는 immutable 변경불가능한 데이터만 가능)\n",
    "  "
   ]
  },
  {
   "cell_type": "markdown",
   "metadata": {},
   "source": [
    "## 2. 홀수 list\n",
    "range와 slicing을 활용하여 1부터 50까지 숫자 중 홀수로 이루어진 리스트를 만드시오.\n",
    "\n",
    "[참고] \n",
    "* **slicing** [start:end:step] : \n",
    " - end는 해당 숫자 '미만'입니다. 해당 숫자는 포함하지 않습니다.\n",
    " - step은 몇 개씩 끊어서 가져올지를 정합니다."
   ]
  },
  {
   "cell_type": "code",
   "execution_count": 10,
   "metadata": {},
   "outputs": [
    {
     "name": "stdout",
     "output_type": "stream",
     "text": [
      "[1, 3, 5, 7, 9, 11, 13, 15, 17, 19, 21, 23, 25, 27, 29, 31, 33, 35, 37, 39, 41, 43, 45, 47, 49]\n"
     ]
    }
   ],
   "source": [
    "# range\n",
    "numbers = list(range(1, 51,2))\n",
    "print(numbers)\n"
   ]
  },
  {
   "cell_type": "code",
   "execution_count": 7,
   "metadata": {},
   "outputs": [
    {
     "name": "stdout",
     "output_type": "stream",
     "text": [
      "[1, 3, 5, 7, 9, 11, 13, 15, 17, 19, 21, 23, 25, 27, 29, 31, 33, 35, 37, 39, 41, 43, 45, 47, 49]\n"
     ]
    }
   ],
   "source": [
    "# slicing  only\n",
    "numbers = [1, 2, 3, 4, 5, 6, 7, 8, 9, 10, 11, 12, 13, 14, 15, 16, 17, 18, 19, 20, 21, 22, 23, 24, 25, 26, 27, 28, 29, 30, 31, 32, 33, 34, 35, 36, 37, 38, 39, 40, 41, 42, 43, 44, 45, 46, 47, 48, 49, 50]\n",
    "print(numbers[0::2])\n"
   ]
  },
  {
   "cell_type": "code",
   "execution_count": 8,
   "metadata": {},
   "outputs": [
    {
     "name": "stdout",
     "output_type": "stream",
     "text": [
      "[1, 3, 5, 7, 9, 11, 13, 15, 17, 19, 21, 23, 25, 27, 29, 31, 33, 35, 37, 39, 41, 43, 45, 47, 49]\n"
     ]
    }
   ],
   "source": [
    "# range & slicing together\n",
    "numbers = list(range(1, 51))\n",
    "print(numbers[::2])"
   ]
  },
  {
   "cell_type": "code",
   "execution_count": 4,
   "metadata": {},
   "outputs": [
    {
     "name": "stdout",
     "output_type": "stream",
     "text": [
      "[1, 3, 5, 7, 9, 11, 13, 15, 17, 19, 21, 23, 25, 27, 29, 31, 33, 35, 37, 39, 41, 43, 45, 47, 49]\n"
     ]
    }
   ],
   "source": [
    "# for 문\n",
    "numbers=50\n",
    "number_list=[]\n",
    "i=1\n",
    "for i in range(1,numbers+1):\n",
    "    if i%2:\n",
    "        number_list+=[i]\n",
    "    i+=1\n",
    "    \n",
    "print(number_list)"
   ]
  },
  {
   "cell_type": "markdown",
   "metadata": {},
   "source": [
    "## 3. dictionary 생성\n",
    "반 학생들의 정보를 이용하여 key는 이름, value는 나이인 dictionary를 만드시오."
   ]
  },
  {
   "cell_type": "code",
   "execution_count": 9,
   "metadata": {},
   "outputs": [
    {
     "name": "stdout",
     "output_type": "stream",
     "text": [
      "{'박소현': '28', '박대전': '29', '박구미': '30'}\n"
     ]
    }
   ],
   "source": [
    "# 아래에 코드를 작성하시오.\n",
    "\n",
    "middle_school = {'박소현':'28','박대전':'29','박구미':'30' }\n",
    "print(middle_school)"
   ]
  },
  {
   "cell_type": "markdown",
   "metadata": {},
   "source": [
    "## 4. 반복문으로 네모 출력\n",
    "두 개의 정수 n과 m이 주어졌을 때, 가로의 길이가 n, 세로의 길이가 m인 직사각형 형태를 별(*) 문자를 이용하여 출력하시오. 단, 반복문을 사용하여 작성하시오."
   ]
  },
  {
   "cell_type": "code",
   "execution_count": 26,
   "metadata": {},
   "outputs": [
    {
     "name": "stdout",
     "output_type": "stream",
     "text": [
      "*****\n",
      "*****\n",
      "*****\n",
      "*****\n",
      "*****\n",
      "*****\n",
      "*****\n",
      "*****\n",
      "*****\n",
      "\n"
     ]
    }
   ],
   "source": [
    "# 방법 1. 반복문 없이\n",
    "n = 5\n",
    "m = 9\n",
    "\n",
    "print(('*'*n+'\\n')*m)\n",
    "\n"
   ]
  },
  {
   "cell_type": "code",
   "execution_count": 25,
   "metadata": {},
   "outputs": [
    {
     "name": "stdout",
     "output_type": "stream",
     "text": [
      "*****\n",
      "*****\n",
      "*****\n",
      "*****\n",
      "*****\n",
      "*****\n",
      "*****\n",
      "*****\n",
      "*****\n"
     ]
    }
   ],
   "source": [
    "# 방법 2. 반복문 이용\n",
    "\n",
    "# (1) while 문\n",
    "n = 5\n",
    "m = 9\n",
    "\n",
    "i = 1\n",
    "while i <= m:\n",
    "    print('*'*n)\n",
    "    i+=1\n"
   ]
  },
  {
   "cell_type": "code",
   "execution_count": 23,
   "metadata": {},
   "outputs": [
    {
     "name": "stdout",
     "output_type": "stream",
     "text": [
      "*****\n",
      "*****\n",
      "*****\n",
      "*****\n",
      "*****\n",
      "*****\n",
      "*****\n",
      "*****\n",
      "*****\n"
     ]
    }
   ],
   "source": [
    "# 방법 2. 반복문 이용\n",
    "\n",
    "# (2) for 문\n",
    "n = 5\n",
    "m = 9\n",
    "\n",
    "i=1\n",
    "for i in range(1, m+1):\n",
    "    print('*'*n)\n",
    "    i+=1\n",
    "    \n"
   ]
  },
  {
   "cell_type": "markdown",
   "metadata": {},
   "source": [
    "## 5. 조건 표현식\n",
    "제시된 if 문을 조건 표현식으로 바꾸어 작성하시오.\n",
    "```python\n",
    "temp = 36.5\n",
    "if temp >= 37.5:\n",
    "    print('입실 불가')\n",
    "else:\n",
    "    print('입실 가능')\n",
    "```"
   ]
  },
  {
   "cell_type": "code",
   "execution_count": 19,
   "metadata": {},
   "outputs": [
    {
     "name": "stdout",
     "output_type": "stream",
     "text": [
      "입실 불가\n"
     ]
    }
   ],
   "source": [
    "temp = 36.5\n",
    "\n",
    "print('입실 불가') if temp>=37.5 else print('입실가능')\n",
    "\n"
   ]
  },
  {
   "cell_type": "markdown",
   "metadata": {},
   "source": [
    "## 6. list 평균값\n",
    "제시된 list의 평균 값을 출력하시오."
   ]
  },
  {
   "cell_type": "code",
   "execution_count": 11,
   "metadata": {},
   "outputs": [
    {
     "name": "stdout",
     "output_type": "stream",
     "text": [
      "87.75\n"
     ]
    }
   ],
   "source": [
    "# for문 only\n",
    "scores = [80, 89, 99, 83]\n",
    "\n",
    "sum=0\n",
    "count=0\n",
    "for score in scores:\n",
    "    count+=1\n",
    "    sum+=score\n",
    "print(sum/count)\n",
    "\n"
   ]
  },
  {
   "cell_type": "code",
   "execution_count": 20,
   "metadata": {},
   "outputs": [
    {
     "name": "stdout",
     "output_type": "stream",
     "text": [
      "87.75\n"
     ]
    }
   ],
   "source": [
    "# build-in 함수 활용\n",
    "scores = [80, 89, 99, 83]\n",
    "\n",
    "hey=sum(scores)/len(scores)\n",
    "print(hey)"
   ]
  },
  {
   "cell_type": "markdown",
   "metadata": {},
   "source": [
    "### 'int' object is not callable 에러잡기!\n",
    "> 결론부터 말하자면, 예약어를 변수명으로 사용 하였기 때문이다.\n",
    "\n",
    "> jupyter의 경우 한 파일에서 어떠한 코드를 실행시킨 후에 지우고 새로 코드를 썼다고 하더라도 해당 데이터가 그대로 남아 있다.\n",
    "> 따라서 함수와 변수명의 이름중복으로 인해 해당 오류가 발생하게 된다.\n",
    "\n",
    "> del을 이용하여 오류를 만든 변수를 삭제해주면 된다.\n",
    "\n",
    "    ========>> `del sum`"
   ]
  }
 ],
 "metadata": {
  "kernelspec": {
   "display_name": "Python 3",
   "language": "python",
   "name": "python3"
  },
  "language_info": {
   "codemirror_mode": {
    "name": "ipython",
    "version": 3
   },
   "file_extension": ".py",
   "mimetype": "text/x-python",
   "name": "python",
   "nbconvert_exporter": "python",
   "pygments_lexer": "ipython3",
   "version": "3.8.7"
  }
 },
 "nbformat": 4,
 "nbformat_minor": 4
}
