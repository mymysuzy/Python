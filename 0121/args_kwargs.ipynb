{
 "cells": [
  {
   "cell_type": "markdown",
   "metadata": {},
   "source": [
    "# 함수의 인자 활용 : `*args` vs `**kwargs`"
   ]
  },
  {
   "cell_type": "markdown",
   "metadata": {},
   "source": [
    "## `*args`\n",
    "\n",
    "> 가변 인자 리스트\n",
    ">\n",
    "> 함수를 사용할 때 인자를 안넣을 수도 있고, 한 개만 넣을 수도 있고, 백 개를 넣을 수도 있다.\n",
    ">\n",
    "> 이처럼 개수가 정해지지 않은 임의의 개수의 인자를 받아야 하는 경우, 앞에 애스터리스크(`*`)를 붙여서 `*args`라고 정의한다.\n",
    "\n",
    "* 일반적으로 Arguments를 줄여서 args 라고 부르고, 이름은 원하는 대로 바꿀 수 있다.\n",
    "* 내부적으로 **튜플(tuple) 형태**로 처리된다."
   ]
  },
  {
   "cell_type": "code",
   "execution_count": 1,
   "metadata": {},
   "outputs": [
    {
     "name": "stdout",
     "output_type": "stream",
     "text": [
      "args:  (1, 2, 3, 4, 5, 6, 7, 8, 9, 10)\n",
      "<class 'tuple'>\n",
      "함수를 호출하여 (1, 2, 3, 4, 5, 6, 7, 8, 9, 10) 을 반환 받았습니다.\n"
     ]
    }
   ],
   "source": [
    "def my_function(*args):\n",
    "    print('args: ', args)\n",
    "    print(type(args))\n",
    "    return args\n",
    "\n",
    "\n",
    "return_value = my_function(1, 2, 3, 4, 5, 6, 7, 8, 9, 10)\n",
    "print(f'함수를 호출하여 {return_value} 을 반환 받았습니다.')"
   ]
  },
  {
   "cell_type": "markdown",
   "metadata": {},
   "source": [
    "* 이때 받아야 하는 고정 인자가 있는 경우, 고정 인자 이후에 `*args`를 표시한다."
   ]
  },
  {
   "cell_type": "code",
   "execution_count": null,
   "metadata": {},
   "outputs": [],
   "source": [
    "def my_function(a, b, *args):\n",
    "    print('a: ', a)\n",
    "    print('b: ', b)\n",
    "    print('args: ', args)\n",
    "    print(type(args))\n",
    "    return args\n",
    "\n",
    "\n",
    "return_value = my_function(1, 2, 3, 4, 5, 6, 7, 8, 9, 10)\n",
    "print(f'함수를 호출하여 {return_value} 을 반환 받았습니다.')"
   ]
  },
  {
   "cell_type": "markdown",
   "metadata": {},
   "source": [
    "## `**kwargs`\n",
    "\n",
    "> 가변 키워드 인자\n",
    ">\n",
    "> `*args` 에서 정해지지 않은 개수의 인자를 받았다면, `**kwargs` 는 **정해지지 않은 개수**의 키워드 인자를 받는다.\n",
    ">\n",
    "> 앞에 애스터리스크 2개(`**`)를 붙여 `**kwargs`라고 정의한다.\n",
    "\n",
    "\n",
    "* 일반적으로 Keyword Arguments를 줄여서 kwargs 라고 부르고, 이름은 원하는 대로 바꿀 수 있다.\n",
    "* 내부적으로 **딕셔너리(dictionary) 형태**로 처리된다."
   ]
  },
  {
   "cell_type": "code",
   "execution_count": 2,
   "metadata": {},
   "outputs": [
    {
     "name": "stdout",
     "output_type": "stream",
     "text": [
      "kwargs:  {'name': '유창오', 'age': 22, 'phone': '010-1234-1234', 'language': '수도권 표준 언어(경기도 북부)'}\n",
      "<class 'dict'>\n",
      "---------------------------------------\n",
      "학생 정보를 성공적으로 생성했습니다 🎉\n",
      "name: 유창오\n",
      "age: 22\n",
      "phone: 010-1234-1234\n",
      "language: 수도권 표준 언어(경기도 북부)\n"
     ]
    }
   ],
   "source": [
    "def create_gwangju_member(**kwargs):\n",
    "    print('kwargs: ', kwargs)\n",
    "    print(type(kwargs))\n",
    "    \n",
    "    print('---------------------------------------')\n",
    "    print('학생 정보를 성공적으로 생성했습니다 🎉')\n",
    "    for key, value in kwargs.items():\n",
    "        print(f'{key}: {value}')\n",
    "\n",
    "\n",
    "create_gwangju_member(\n",
    "    name='유창오', \n",
    "    age=22, \n",
    "    phone='010-1234-1234', \n",
    "    language='수도권 표준 언어(경기도 북부)'\n",
    ")"
   ]
  },
  {
   "cell_type": "markdown",
   "metadata": {},
   "source": [
    "* 이때 받아야 하는 고정 인자가 있는 경우, 고정 인자 이후에 `**kwargs` 를 표시한다."
   ]
  },
  {
   "cell_type": "code",
   "execution_count": null,
   "metadata": {},
   "outputs": [],
   "source": [
    "def create_gwangju_member(name, age, **kwargs):\n",
    "    print('name: ', name)\n",
    "    print('age: ', age)\n",
    "    print('kwargs: ', kwargs)\n",
    "    print(type(kwargs))\n",
    "    \n",
    "    print('---------------------------------------')\n",
    "    print('학생 정보를 성공적으로 생성했습니다 🎉')\n",
    "    for key, value in kwargs.items():\n",
    "        print(f'{key}: {value}')\n",
    "\n",
    "\n",
    "create_gwangju_member(\n",
    "    name='유창오', \n",
    "    age=22, \n",
    "    phone='010-1234-1234', \n",
    "    language='수도권 표준 언어(경기도 북부)'\n",
    ")"
   ]
  },
  {
   "cell_type": "markdown",
   "metadata": {},
   "source": [
    "## 고정 인자, `*args`, `**kwargs`"
   ]
  },
  {
   "cell_type": "markdown",
   "metadata": {},
   "source": [
    "> 고정 인자, *args, **kwargs 를 함께 사용할 수 있다.\n",
    ">\n",
    "> 순서에 주의한다. \n",
    "> **고정인자, *args, **kwargs 순**으로 작성해야 한다.\n",
    ">\n",
    "> 우리가 흔히 사용하고 있던 빌트인 함수인 print가 `*args`와 `**kwargs`를 활용하는 대표적인 경우다."
   ]
  },
  {
   "cell_type": "code",
   "execution_count": 12,
   "metadata": {},
   "outputs": [
    {
     "name": "stdout",
     "output_type": "stream",
     "text": [
      "선생님😍학기가 끝나가는데😍살이 많이 빠지셔서😍보기가 너무 좋아요\n",
      "-----------------------------------------------------\n",
      "선생님 학기가 끝나가는데 살이 많이 빠지셔서 보기가 너무 좋아요😍\n",
      "-----------------------------------------------------\n",
      "선생님😍학기가 끝나가는데😍살이 많이 빠지셔서😍보기가 너무 좋아요😍\n",
      "-----------------------------------------------------\n"
     ]
    }
   ],
   "source": [
    "# sep='' :: *args 사이사이에 끼워넣을 무언가를 설정\n",
    "print('선생님', '학기가 끝나가는데', '살이 많이 빠지셔서', '보기가 너무 좋아요',sep='😍')\n",
    "print('-----------------------------------------------------')\n",
    "\n",
    "# end='' :: 제일 마지막의 args뒤에 끼워넣을 무언가를 설정\n",
    "print('선생님', '학기가 끝나가는데', '살이 많이 빠지셔서', '보기가 너무 좋아요',end='😍')\n",
    "print('\\n-----------------------------------------------------')\n",
    "\n",
    "# 혼용\n",
    "print('선생님', '학기가 끝나가는데', '살이 많이 빠지셔서', '보기가 너무 좋아요',end='😍',sep='😍')\n",
    "print('\\n-----------------------------------------------------')"
   ]
  }
 ],
 "metadata": {
  "kernelspec": {
   "display_name": "Python 3",
   "language": "python",
   "name": "python3"
  },
  "language_info": {
   "codemirror_mode": {
    "name": "ipython",
    "version": 3
   },
   "file_extension": ".py",
   "mimetype": "text/x-python",
   "name": "python",
   "nbconvert_exporter": "python",
   "pygments_lexer": "ipython3",
   "version": "3.8.7"
  },
  "toc": {
   "base_numbering": 1,
   "nav_menu": {},
   "number_sections": true,
   "sideBar": true,
   "skip_h1_title": false,
   "title_cell": "Table of Contents",
   "title_sidebar": "Contents",
   "toc_cell": false,
   "toc_position": {},
   "toc_section_display": true,
   "toc_window_display": false
  }
 },
 "nbformat": 4,
 "nbformat_minor": 5
}
